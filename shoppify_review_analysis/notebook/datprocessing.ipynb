{
 "cells": [
  {
   "cell_type": "code",
   "execution_count": 266,
   "id": "1e527298",
   "metadata": {},
   "outputs": [
    {
     "data": {
      "text/html": [
       "<div>\n",
       "<style scoped>\n",
       "    .dataframe tbody tr th:only-of-type {\n",
       "        vertical-align: middle;\n",
       "    }\n",
       "\n",
       "    .dataframe tbody tr th {\n",
       "        vertical-align: top;\n",
       "    }\n",
       "\n",
       "    .dataframe thead th {\n",
       "        text-align: right;\n",
       "    }\n",
       "</style>\n",
       "<table border=\"1\" class=\"dataframe\">\n",
       "  <thead>\n",
       "    <tr style=\"text-align: right;\">\n",
       "      <th></th>\n",
       "      <th>Review ID</th>\n",
       "      <th>Product Name</th>\n",
       "      <th>Rating</th>\n",
       "      <th>Review Content</th>\n",
       "      <th>Timestamp</th>\n",
       "      <th>Customer Email</th>\n",
       "      <th>Product Category</th>\n",
       "      <th>Order Value</th>\n",
       "      <th>Fulfillment Status</th>\n",
       "      <th>Shipping Country</th>\n",
       "    </tr>\n",
       "  </thead>\n",
       "  <tbody>\n",
       "    <tr>\n",
       "      <th>0</th>\n",
       "      <td>bdd640fb-0667-4ad1-9c80-317fa3b1799d</td>\n",
       "      <td>Cross-group web-enabled encoding</td>\n",
       "      <td>NaN</td>\n",
       "      <td>Pressure let kind degree list top somebody col...</td>\n",
       "      <td>2025-03-04 1:23:13</td>\n",
       "      <td>williamsdarlene@baker.org</td>\n",
       "      <td>Evening Gowns</td>\n",
       "      <td>NaN</td>\n",
       "      <td>Fulfilled</td>\n",
       "      <td>Germany</td>\n",
       "    </tr>\n",
       "    <tr>\n",
       "      <th>1</th>\n",
       "      <td>23b8c1e9-3924-46de-beb1-3b9046685257</td>\n",
       "      <td>Down-sized incremental matrix</td>\n",
       "      <td>1.0</td>\n",
       "      <td>Challenge reach throughout team those sing des...</td>\n",
       "      <td>2025-05-10 16:21:32</td>\n",
       "      <td>ismall@may-turner.com</td>\n",
       "      <td>Prom Dresses</td>\n",
       "      <td>197.72</td>\n",
       "      <td>NaN</td>\n",
       "      <td>Australia</td>\n",
       "    </tr>\n",
       "    <tr>\n",
       "      <th>2</th>\n",
       "      <td>bd9c66b3-ad3c-4d6d-9a3d-1fa7bc8960a9</td>\n",
       "      <td>Polarized didactic initiative</td>\n",
       "      <td>1.0</td>\n",
       "      <td>Lead soon property.</td>\n",
       "      <td>2025-03-09 11:07:09</td>\n",
       "      <td>shawn02@yahoo.com</td>\n",
       "      <td>Cocktail Dreses</td>\n",
       "      <td>485.10</td>\n",
       "      <td>NaN</td>\n",
       "      <td>Germany</td>\n",
       "    </tr>\n",
       "    <tr>\n",
       "      <th>3</th>\n",
       "      <td>972a8469-1641-4f82-8b9d-2434e465e150</td>\n",
       "      <td>Centralized composite implementation</td>\n",
       "      <td>NaN</td>\n",
       "      <td>Other wear through partner rest.</td>\n",
       "      <td>2025-05-18 18:41:54</td>\n",
       "      <td>vmarshall@hotmail.com</td>\n",
       "      <td>PromDrsses</td>\n",
       "      <td>338.67</td>\n",
       "      <td>Delayed</td>\n",
       "      <td>United States</td>\n",
       "    </tr>\n",
       "    <tr>\n",
       "      <th>4</th>\n",
       "      <td>17fc695a-07a0-4a6e-8822-e8f36c031199</td>\n",
       "      <td>Adaptive human-resource firmware</td>\n",
       "      <td>3.0</td>\n",
       "      <td>Interview trade knowledge city technology late...</td>\n",
       "      <td>2025-01-13 14:38:16</td>\n",
       "      <td>michelle55@anderson-wood.net</td>\n",
       "      <td>Plus Size Dresses</td>\n",
       "      <td>491.52</td>\n",
       "      <td>Cancelled</td>\n",
       "      <td>Germany</td>\n",
       "    </tr>\n",
       "  </tbody>\n",
       "</table>\n",
       "</div>"
      ],
      "text/plain": [
       "                              Review ID                          Product Name  \\\n",
       "0  bdd640fb-0667-4ad1-9c80-317fa3b1799d      Cross-group web-enabled encoding   \n",
       "1  23b8c1e9-3924-46de-beb1-3b9046685257         Down-sized incremental matrix   \n",
       "2  bd9c66b3-ad3c-4d6d-9a3d-1fa7bc8960a9         Polarized didactic initiative   \n",
       "3  972a8469-1641-4f82-8b9d-2434e465e150  Centralized composite implementation   \n",
       "4  17fc695a-07a0-4a6e-8822-e8f36c031199      Adaptive human-resource firmware   \n",
       "\n",
       "   Rating                                     Review Content  \\\n",
       "0     NaN  Pressure let kind degree list top somebody col...   \n",
       "1     1.0  Challenge reach throughout team those sing des...   \n",
       "2     1.0                                Lead soon property.   \n",
       "3     NaN                   Other wear through partner rest.   \n",
       "4     3.0  Interview trade knowledge city technology late...   \n",
       "\n",
       "             Timestamp                Customer Email   Product Category  \\\n",
       "0   2025-03-04 1:23:13     williamsdarlene@baker.org      Evening Gowns   \n",
       "1  2025-05-10 16:21:32         ismall@may-turner.com       Prom Dresses   \n",
       "2  2025-03-09 11:07:09             shawn02@yahoo.com    Cocktail Dreses   \n",
       "3  2025-05-18 18:41:54         vmarshall@hotmail.com         PromDrsses   \n",
       "4  2025-01-13 14:38:16  michelle55@anderson-wood.net  Plus Size Dresses   \n",
       "\n",
       "   Order Value Fulfillment Status Shipping Country  \n",
       "0          NaN          Fulfilled          Germany  \n",
       "1       197.72                NaN        Australia  \n",
       "2       485.10                NaN          Germany  \n",
       "3       338.67            Delayed    United States  \n",
       "4       491.52          Cancelled          Germany  "
      ]
     },
     "execution_count": 266,
     "metadata": {},
     "output_type": "execute_result"
    }
   ],
   "source": [
    "import pandas as pd\n",
    "pd.set_option('display.max_columns', None)  \n",
    "# df = pd.read_csv(r\"D:\\EDrivebackup\\brocamp\\techTest\\ecommerce-clone-and-review-insights\\shoppify_review_analysis\\data\\sample_customer_reviews_raw - sample_customer_reviews_raw.csv.csv\")\n",
    "df=pd.read_csv('D:\\EDrivebackup/brocamp/techTest/ecommerce-clone-and-review-insights/shoppify_review_analysis/data/customerdata.csv')\n",
    "df.head()\n"
   ]
  },
  {
   "cell_type": "code",
   "execution_count": 267,
   "id": "cbe2b069",
   "metadata": {},
   "outputs": [
    {
     "data": {
      "text/plain": [
       "Review ID              object\n",
       "Product Name           object\n",
       "Rating                float64\n",
       "Review Content         object\n",
       "Timestamp              object\n",
       "Customer Email         object\n",
       "Product Category       object\n",
       "Order Value           float64\n",
       "Fulfillment Status     object\n",
       "Shipping Country       object\n",
       "dtype: object"
      ]
     },
     "execution_count": 267,
     "metadata": {},
     "output_type": "execute_result"
    }
   ],
   "source": [
    "df.dtypes"
   ]
  },
  {
   "cell_type": "code",
   "execution_count": 268,
   "id": "50687d9e",
   "metadata": {},
   "outputs": [
    {
     "data": {
      "text/html": [
       "<div>\n",
       "<style scoped>\n",
       "    .dataframe tbody tr th:only-of-type {\n",
       "        vertical-align: middle;\n",
       "    }\n",
       "\n",
       "    .dataframe tbody tr th {\n",
       "        vertical-align: top;\n",
       "    }\n",
       "\n",
       "    .dataframe thead th {\n",
       "        text-align: right;\n",
       "    }\n",
       "</style>\n",
       "<table border=\"1\" class=\"dataframe\">\n",
       "  <thead>\n",
       "    <tr style=\"text-align: right;\">\n",
       "      <th></th>\n",
       "      <th>Rating</th>\n",
       "      <th>Order Value</th>\n",
       "    </tr>\n",
       "  </thead>\n",
       "  <tbody>\n",
       "    <tr>\n",
       "      <th>count</th>\n",
       "      <td>80.000000</td>\n",
       "      <td>97.000000</td>\n",
       "    </tr>\n",
       "    <tr>\n",
       "      <th>mean</th>\n",
       "      <td>2.762500</td>\n",
       "      <td>275.804742</td>\n",
       "    </tr>\n",
       "    <tr>\n",
       "      <th>std</th>\n",
       "      <td>1.425303</td>\n",
       "      <td>139.536561</td>\n",
       "    </tr>\n",
       "    <tr>\n",
       "      <th>min</th>\n",
       "      <td>1.000000</td>\n",
       "      <td>50.180000</td>\n",
       "    </tr>\n",
       "    <tr>\n",
       "      <th>25%</th>\n",
       "      <td>1.750000</td>\n",
       "      <td>148.740000</td>\n",
       "    </tr>\n",
       "    <tr>\n",
       "      <th>50%</th>\n",
       "      <td>3.000000</td>\n",
       "      <td>296.540000</td>\n",
       "    </tr>\n",
       "    <tr>\n",
       "      <th>75%</th>\n",
       "      <td>4.000000</td>\n",
       "      <td>386.380000</td>\n",
       "    </tr>\n",
       "    <tr>\n",
       "      <th>max</th>\n",
       "      <td>5.000000</td>\n",
       "      <td>499.960000</td>\n",
       "    </tr>\n",
       "  </tbody>\n",
       "</table>\n",
       "</div>"
      ],
      "text/plain": [
       "          Rating  Order Value\n",
       "count  80.000000    97.000000\n",
       "mean    2.762500   275.804742\n",
       "std     1.425303   139.536561\n",
       "min     1.000000    50.180000\n",
       "25%     1.750000   148.740000\n",
       "50%     3.000000   296.540000\n",
       "75%     4.000000   386.380000\n",
       "max     5.000000   499.960000"
      ]
     },
     "execution_count": 268,
     "metadata": {},
     "output_type": "execute_result"
    }
   ],
   "source": [
    "df.describe()"
   ]
  },
  {
   "cell_type": "code",
   "execution_count": 269,
   "id": "e9af8aa8",
   "metadata": {},
   "outputs": [
    {
     "data": {
      "text/plain": [
       "williamsdarlene@baker.org    1\n",
       "comptonshelly@hotmail.com    1\n",
       "michael77@gmail.com          1\n",
       "powens@yahoo.com             1\n",
       "srocha@padilla.com           1\n",
       "                            ..\n",
       "sandra47@harris.com          1\n",
       "kellyroberts@hotmail.com     1\n",
       "david86@yahoo.com            1\n",
       "ybailey@hotmail.com          1\n",
       "sean41@miller.info           1\n",
       "Name: Customer Email, Length: 100, dtype: int64"
      ]
     },
     "execution_count": 269,
     "metadata": {},
     "output_type": "execute_result"
    }
   ],
   "source": [
    "df['Customer Email'].value_counts()"
   ]
  },
  {
   "cell_type": "code",
   "execution_count": 270,
   "id": "ffa7d1fc",
   "metadata": {},
   "outputs": [],
   "source": [
    "import re\n",
    "\n",
    "# Define email pattern\n",
    "email_pattern = r'^[\\w\\.-]+@[\\w\\.-]+\\.\\w+$'\n",
    "\n",
    "# Filter rows with valid emails\n",
    "df = df[df['Customer Email'].str.match(email_pattern, na=False)]\n",
    "\n"
   ]
  },
  {
   "cell_type": "code",
   "execution_count": 271,
   "id": "aeb4fa15",
   "metadata": {},
   "outputs": [
    {
     "data": {
      "text/plain": [
       "(100, 10)"
      ]
     },
     "execution_count": 271,
     "metadata": {},
     "output_type": "execute_result"
    }
   ],
   "source": [
    "df.shape"
   ]
  },
  {
   "cell_type": "code",
   "execution_count": 303,
   "id": "702e732d",
   "metadata": {},
   "outputs": [
    {
     "data": {
      "text/plain": [
       "array(['Germany', 'Australia', 'United States', 'Canada',\n",
       "       'United Kingdom'], dtype=object)"
      ]
     },
     "execution_count": 303,
     "metadata": {},
     "output_type": "execute_result"
    }
   ],
   "source": [
    "df['Shipping Country'].unique()"
   ]
  },
  {
   "cell_type": "code",
   "execution_count": 272,
   "id": "7890bef4",
   "metadata": {},
   "outputs": [
    {
     "data": {
      "text/plain": [
       "Cancelled    17\n",
       "Returned     16\n",
       "Fufilled     14\n",
       "Delaye       13\n",
       "Fulfilled    12\n",
       "Delayed       9\n",
       "Name: Fulfillment Status, dtype: int64"
      ]
     },
     "execution_count": 272,
     "metadata": {},
     "output_type": "execute_result"
    }
   ],
   "source": [
    "df['Fulfillment Status'].value_counts()"
   ]
  },
  {
   "cell_type": "code",
   "execution_count": 273,
   "id": "99bb021f",
   "metadata": {},
   "outputs": [],
   "source": [
    "df['Fulfillment Status'] = df['Fulfillment Status'].str.strip().str.lower()\n",
    "status_corrections = {\n",
    "    'delaye': 'delayed',\n",
    "    'fufilled': 'fulfilled'\n",
    "}\n",
    "df['Fulfillment Status'] = df['Fulfillment Status'].replace(status_corrections)"
   ]
  },
  {
   "cell_type": "code",
   "execution_count": 274,
   "id": "a9aa7f0f",
   "metadata": {},
   "outputs": [
    {
     "data": {
      "text/plain": [
       "fulfilled    26\n",
       "delayed      22\n",
       "cancelled    17\n",
       "returned     16\n",
       "Name: Fulfillment Status, dtype: int64"
      ]
     },
     "execution_count": 274,
     "metadata": {},
     "output_type": "execute_result"
    }
   ],
   "source": [
    "df['Fulfillment Status'].value_counts()"
   ]
  },
  {
   "cell_type": "code",
   "execution_count": 275,
   "id": "56a71a9e",
   "metadata": {},
   "outputs": [
    {
     "data": {
      "text/plain": [
       "array(['fulfilled', nan, 'delayed', 'cancelled', 'returned'], dtype=object)"
      ]
     },
     "execution_count": 275,
     "metadata": {},
     "output_type": "execute_result"
    }
   ],
   "source": [
    "df['Fulfillment Status'].unique()"
   ]
  },
  {
   "cell_type": "code",
   "execution_count": 276,
   "id": "579e7815",
   "metadata": {},
   "outputs": [],
   "source": [
    "df['Fulfillment Status'] = df['Fulfillment Status'].fillna(df['Fulfillment Status'].mode()[0])"
   ]
  },
  {
   "cell_type": "code",
   "execution_count": 277,
   "id": "3b438aa6",
   "metadata": {},
   "outputs": [
    {
     "data": {
      "text/plain": [
       "Review ID              0\n",
       "Product Name           0\n",
       "Rating                20\n",
       "Review Content         8\n",
       "Timestamp              0\n",
       "Customer Email         0\n",
       "Product Category       7\n",
       "Order Value            3\n",
       "Fulfillment Status     0\n",
       "Shipping Country       0\n",
       "dtype: int64"
      ]
     },
     "execution_count": 277,
     "metadata": {},
     "output_type": "execute_result"
    }
   ],
   "source": [
    "df.isna().sum()"
   ]
  },
  {
   "cell_type": "code",
   "execution_count": 278,
   "id": "067e9e74",
   "metadata": {},
   "outputs": [],
   "source": [
    "# Standardize timestamps\n",
    "df[\"Timestamp\"] = pd.to_datetime(df[\"Timestamp\"], errors=\"coerce\")\n"
   ]
  },
  {
   "cell_type": "code",
   "execution_count": 279,
   "id": "e0d41e15",
   "metadata": {},
   "outputs": [
    {
     "data": {
      "text/plain": [
       "0    Pressure let kind degree list top somebody col...\n",
       "1    Challenge reach throughout team those sing des...\n",
       "Name: Review Content, dtype: object"
      ]
     },
     "execution_count": 279,
     "metadata": {},
     "output_type": "execute_result"
    }
   ],
   "source": [
    "df[\"Review Content\"][:2]"
   ]
  },
  {
   "cell_type": "code",
   "execution_count": 280,
   "id": "5e77fd58",
   "metadata": {},
   "outputs": [],
   "source": [
    "# Filter out blank/invalid reviews\n",
    "df = df[df[\"Review Content\"].str.len() > 10]\n"
   ]
  },
  {
   "cell_type": "code",
   "execution_count": 281,
   "id": "cbf73fed",
   "metadata": {},
   "outputs": [
    {
     "name": "stdout",
     "output_type": "stream",
     "text": [
      "Missing ratings: 19\n"
     ]
    }
   ],
   "source": [
    "\n",
    "missing_ratings = df[df[\"Rating\"].isnull()]\n",
    "print(f\"Missing ratings: {len(missing_ratings)}\")"
   ]
  },
  {
   "cell_type": "code",
   "execution_count": 282,
   "id": "3c58fb73",
   "metadata": {},
   "outputs": [
    {
     "data": {
      "text/plain": [
       "array([nan,  1.,  3.,  2.,  5.,  4.])"
      ]
     },
     "execution_count": 282,
     "metadata": {},
     "output_type": "execute_result"
    }
   ],
   "source": [
    "df['Rating'].unique()\n",
    "\n"
   ]
  },
  {
   "cell_type": "code",
   "execution_count": 283,
   "id": "bd617d7b",
   "metadata": {},
   "outputs": [],
   "source": [
    "df[\"Rating\"] = pd.to_numeric(df[\"Rating\"], errors=\"coerce\")\n"
   ]
  },
  {
   "cell_type": "code",
   "execution_count": 284,
   "id": "17f18786",
   "metadata": {},
   "outputs": [
    {
     "data": {
      "text/plain": [
       "array([nan,  1.,  3.,  2.,  5.,  4.])"
      ]
     },
     "execution_count": 284,
     "metadata": {},
     "output_type": "execute_result"
    }
   ],
   "source": [
    "df['Rating'].unique()"
   ]
  },
  {
   "cell_type": "code",
   "execution_count": 285,
   "id": "1e78d87e",
   "metadata": {},
   "outputs": [],
   "source": [
    "# Normalize missing fields\n",
    "df[\"Rating_Missing\"] = df[\"Rating\"].isna().astype(int)\n",
    "\n",
    "df[\"Rating\"] = df.groupby(\"Product Category\")[\"Rating\"].transform(lambda x: x.fillna(x.median()))\n",
    "df[\"Rating\"] = df[\"Rating\"].fillna(df[\"Rating\"].median())\n",
    "df['Order Value']=df['Order Value'].fillna(df['Order Value'].mean())"
   ]
  },
  {
   "cell_type": "code",
   "execution_count": 286,
   "id": "8b05b3c0",
   "metadata": {},
   "outputs": [
    {
     "data": {
      "text/plain": [
       "Review ID             0\n",
       "Product Name          0\n",
       "Rating                0\n",
       "Review Content        0\n",
       "Timestamp             0\n",
       "Customer Email        0\n",
       "Product Category      6\n",
       "Order Value           0\n",
       "Fulfillment Status    0\n",
       "Shipping Country      0\n",
       "Rating_Missing        0\n",
       "dtype: int64"
      ]
     },
     "execution_count": 286,
     "metadata": {},
     "output_type": "execute_result"
    }
   ],
   "source": [
    "df.isna().sum()"
   ]
  },
  {
   "cell_type": "code",
   "execution_count": 287,
   "id": "de3085b7",
   "metadata": {},
   "outputs": [],
   "source": [
    "# Fix inconsistent category/product names\n",
    "df[\"Product Category\"] = df[\"Product Category\"].str.strip().str.lower()\n",
    "df[\"Product Name\"] = df[\"Product Name\"].str.strip().str.lower()"
   ]
  },
  {
   "cell_type": "code",
   "execution_count": 288,
   "id": "abff5b22",
   "metadata": {},
   "outputs": [],
   "source": [
    "dress_corrections = {\n",
    "    'promdrsses': 'prom dresses',\n",
    "    'cocktail dreses': 'cocktail dresses'\n",
    "}\n",
    "df['Product Category'] = df['Product Category'].replace(dress_corrections)\n"
   ]
  },
  {
   "cell_type": "code",
   "execution_count": 289,
   "id": "7da3ea80",
   "metadata": {},
   "outputs": [
    {
     "data": {
      "text/plain": [
       "prom dresses          25\n",
       "cocktail dresses      21\n",
       "plus size dresses     16\n",
       "bridesmaid dresses    14\n",
       "evening gowns         10\n",
       "Name: Product Category, dtype: int64"
      ]
     },
     "execution_count": 289,
     "metadata": {},
     "output_type": "execute_result"
    }
   ],
   "source": [
    "df['Product Category'].value_counts()"
   ]
  },
  {
   "cell_type": "code",
   "execution_count": 290,
   "id": "af5a2980",
   "metadata": {},
   "outputs": [
    {
     "data": {
      "text/plain": [
       "Review ID             0\n",
       "Product Name          0\n",
       "Rating                0\n",
       "Review Content        0\n",
       "Timestamp             0\n",
       "Customer Email        0\n",
       "Product Category      6\n",
       "Order Value           0\n",
       "Fulfillment Status    0\n",
       "Shipping Country      0\n",
       "Rating_Missing        0\n",
       "dtype: int64"
      ]
     },
     "execution_count": 290,
     "metadata": {},
     "output_type": "execute_result"
    }
   ],
   "source": [
    "df.isna().sum()"
   ]
  },
  {
   "cell_type": "code",
   "execution_count": 291,
   "id": "24debb96",
   "metadata": {},
   "outputs": [
    {
     "data": {
      "text/plain": [
       "array(['evening gowns', 'prom dresses', 'cocktail dresses',\n",
       "       'plus size dresses', 'bridesmaid dresses', nan], dtype=object)"
      ]
     },
     "execution_count": 291,
     "metadata": {},
     "output_type": "execute_result"
    }
   ],
   "source": [
    "df['Product Category'].unique()"
   ]
  },
  {
   "cell_type": "code",
   "execution_count": 292,
   "id": "94d69888",
   "metadata": {},
   "outputs": [
    {
     "data": {
      "text/plain": [
       "prom dresses          25\n",
       "cocktail dresses      21\n",
       "plus size dresses     16\n",
       "bridesmaid dresses    14\n",
       "evening gowns         10\n",
       "Name: Product Category, dtype: int64"
      ]
     },
     "execution_count": 292,
     "metadata": {},
     "output_type": "execute_result"
    }
   ],
   "source": [
    "df['Product Category'].value_counts()"
   ]
  },
  {
   "cell_type": "code",
   "execution_count": 293,
   "id": "f9da1df7",
   "metadata": {},
   "outputs": [],
   "source": [
    "df['Product Category']=df['Product Category'].fillna(df['Product Category'].mode()[0])"
   ]
  },
  {
   "cell_type": "code",
   "execution_count": null,
   "id": "69481874",
   "metadata": {},
   "outputs": [],
   "source": []
  },
  {
   "cell_type": "code",
   "execution_count": 294,
   "id": "517ee835",
   "metadata": {},
   "outputs": [],
   "source": [
    "df.to_csv(r\"D:\\EDrivebackup\\brocamp\\techTest\\ecommerce-clone-and-review-insights\\shoppify_review_analysis\\data\\cleaned.csv\", index=False)"
   ]
  },
  {
   "cell_type": "code",
   "execution_count": 295,
   "id": "571e5c8f",
   "metadata": {},
   "outputs": [],
   "source": [
    "import os\n",
    "from dotenv import load_dotenv\n",
    "load_dotenv()\n",
    "from langchain_groq import ChatGroq\n",
    "llm = ChatGroq(api_key=os.getenv(\"GROQ_API_KEY\"), model=\"llama3-8b-8192\")\n"
   ]
  },
  {
   "cell_type": "code",
   "execution_count": null,
   "id": "95995b07",
   "metadata": {},
   "outputs": [
    {
     "name": "stdout",
     "output_type": "stream",
     "text": [
      "     Product Category    Rating\n",
      "0  bridesmaid dresses  4.428571\n",
      "1    cocktail dresses  2.714286\n",
      "2       evening gowns  3.400000\n",
      "3   plus size dresses  2.875000\n",
      "4        prom dresses  2.387097\n"
     ]
    }
   ],
   "source": [
    "from langchain.tools import Tool\n",
    "from pandasai import SmartDataframe\n",
    "\n",
    "\n",
    "import pandas as pd\n",
    "\n",
    "\n",
    "smart_df = SmartDataframe(df, config={\"llm\": llm, \"verbose\": True})\n",
    "\n",
    "pandasai_tool = Tool(\n",
    "    name=\"Dataframe Insight Tool\",\n",
    "    func=lambda q: smart_df.chat(q),\n",
    "    description=\"Useful for asking questions about the uploaded dataframe\"\n",
    ")\n",
    "\n",
    "response = pandasai_tool.run(\"What is the average rating by product category?\")\n",
    "print(response)\n"
   ]
  },
  {
   "cell_type": "code",
   "execution_count": 297,
   "id": "d69e906e",
   "metadata": {},
   "outputs": [
    {
     "name": "stdout",
     "output_type": "stream",
     "text": [
      "  Product Category  Count\n",
      "0     prom dresses      2\n"
     ]
    }
   ],
   "source": [
    "response = pandasai_tool.run(\"Which product categories have the most 1-star reviews in Canada?\")\n",
    "print(response)\n"
   ]
  },
  {
   "cell_type": "code",
   "execution_count": 298,
   "id": "9c3b36b7",
   "metadata": {},
   "outputs": [
    {
     "name": "stdout",
     "output_type": "stream",
     "text": [
      "{'type': 'string', 'value': 'The correlation between Order Value and Rating is -0.04. A negative correlation suggests higher order values may correlate with lower ratings.'}\n",
      "The correlation between Order Value and Rating is -0.04. A negative correlation suggests higher order values may correlate with lower ratings.\n"
     ]
    }
   ],
   "source": [
    "response = pandasai_tool.run(\"Do higher order values correlate with lower ratings?\")\n",
    "print(response)\n"
   ]
  },
  {
   "cell_type": "code",
   "execution_count": 306,
   "id": "9f03ca63",
   "metadata": {},
   "outputs": [
    {
     "name": "stdout",
     "output_type": "stream",
     "text": [
      "{'type': 'string', 'value': \"Top 5 Complaints: ['Pressure let kind degree list top somebody college be middle plan friend stand seem pull different current agency each little sure authority increase picture create recent manager.', 'Ago upon stop environment Congress reflect finally fund accept thank not.', 'Option goal avoid left also hard expert popular.', 'Ten physical character attention kind field.', 'Less nor often race think poor worry.']\\nTop 5 Compliments: ['Pressure let kind degree list top somebody college be middle plan friend stand seem pull different current agency each little sure authority increase picture create recent manager.', 'Ago upon stop environment Congress reflect finally fund accept thank not.', 'Option goal avoid left also hard expert popular.', 'Ten physical character attention kind field.', 'Less nor often race think poor worry.']\"}\n",
      "Top 5 Complaints: ['Pressure let kind degree list top somebody college be middle plan friend stand seem pull different current agency each little sure authority increase picture create recent manager.', 'Ago upon stop environment Congress reflect finally fund accept thank not.', 'Option goal avoid left also hard expert popular.', 'Ten physical character attention kind field.', 'Less nor often race think poor worry.']\n",
      "Top 5 Compliments: ['Pressure let kind degree list top somebody college be middle plan friend stand seem pull different current agency each little sure authority increase picture create recent manager.', 'Ago upon stop environment Congress reflect finally fund accept thank not.', 'Option goal avoid left also hard expert popular.', 'Ten physical character attention kind field.', 'Less nor often race think poor worry.']\n"
     ]
    }
   ],
   "source": [
    "\n",
    "response = pandasai_tool.run(\"Can you summarize the top 5 complaints and 5 compliments across all reviews?\")\n",
    "print(response)"
   ]
  },
  {
   "cell_type": "code",
   "execution_count": null,
   "id": "fb7cfc44",
   "metadata": {},
   "outputs": [
    {
     "name": "stdout",
     "output_type": "stream",
     "text": [
      "{'type': 'dataframe', 'value':   Fulfillment Status    Rating\n",
      "0          cancelled  2.500000\n",
      "2          fulfilled  2.111111\n",
      "1            delayed  2.076923}\n",
      "  Fulfillment Status    Rating\n",
      "0          cancelled  2.500000\n",
      "2          fulfilled  2.111111\n",
      "1            delayed  2.076923\n"
     ]
    }
   ],
   "source": [
    "response = pandasai_tool.run(\"Which fulfillment statuses are most associated with negative feedback?\")\n",
    "print(response)"
   ]
  }
 ],
 "metadata": {
  "kernelspec": {
   "display_name": "Python 3",
   "language": "python",
   "name": "python3"
  },
  "language_info": {
   "codemirror_mode": {
    "name": "ipython",
    "version": 3
   },
   "file_extension": ".py",
   "mimetype": "text/x-python",
   "name": "python",
   "nbconvert_exporter": "python",
   "pygments_lexer": "ipython3",
   "version": "3.10.18"
  }
 },
 "nbformat": 4,
 "nbformat_minor": 5
}
